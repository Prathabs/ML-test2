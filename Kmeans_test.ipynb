{
  "nbformat": 4,
  "nbformat_minor": 0,
  "metadata": {
    "colab": {
      "name": "Kmeans test.ipynb",
      "provenance": []
    },
    "kernelspec": {
      "name": "python3",
      "display_name": "Python 3"
    },
    "language_info": {
      "name": "python"
    }
  },
  "cells": [
    {
      "cell_type": "code",
      "execution_count": 44,
      "metadata": {
        "id": "jfQZJkabzau1"
      },
      "outputs": [],
      "source": [
        "import pandas as pd\n",
        "import numpy as np\n",
        "import matplotlib.pyplot as plt\n",
        "import seaborn as sns\n",
        "from sklearn.cluster import KMeans\n",
        "from sklearn.model_selection import train_test_split\n",
        "from sklearn.decomposition import PCA\n",
        "from sklearn.preprocessing import StandardScaler\n",
        "df=pd.read_csv(\"/content/credit_card.csv\")"
      ]
    },
    {
      "cell_type": "code",
      "source": [
        "df.head"
      ],
      "metadata": {
        "colab": {
          "base_uri": "https://localhost:8080/"
        },
        "id": "TXtuBnz0z8cO",
        "outputId": "06ae9586-bafc-4e12-f124-27d8789d0bca"
      },
      "execution_count": 32,
      "outputs": [
        {
          "output_type": "execute_result",
          "data": {
            "text/plain": [
              "<bound method NDFrame.head of           BALANCE  BALANCE_FREQUENCY  PURCHASES  ONEOFF_PURCHASES  \\\n",
              "0       40.900749           0.818182      95.40              0.00   \n",
              "1     3202.467416           0.909091       0.00              0.00   \n",
              "2     2495.148862           1.000000     773.17            773.17   \n",
              "3     1666.670542           0.636364    1499.00           1499.00   \n",
              "4      817.714335           1.000000      16.00             16.00   \n",
              "...           ...                ...        ...               ...   \n",
              "8945    28.493517           1.000000     291.12              0.00   \n",
              "8946    19.183215           1.000000     300.00              0.00   \n",
              "8947    23.398673           0.833333     144.40              0.00   \n",
              "8948    13.457564           0.833333       0.00              0.00   \n",
              "8949   372.708075           0.666667    1093.25           1093.25   \n",
              "\n",
              "      INSTALLMENTS_PURCHASES  PURCHASES_FREQUENCY  ONEOFF_PURCHASES_FREQUENCY  \\\n",
              "0                      95.40             0.166667                    0.000000   \n",
              "1                       0.00             0.000000                    0.000000   \n",
              "2                       0.00             1.000000                    1.000000   \n",
              "3                       0.00             0.083333                    0.083333   \n",
              "4                       0.00             0.083333                    0.083333   \n",
              "...                      ...                  ...                         ...   \n",
              "8945                  291.12             1.000000                    0.000000   \n",
              "8946                  300.00             1.000000                    0.000000   \n",
              "8947                  144.40             0.833333                    0.000000   \n",
              "8948                    0.00             0.000000                    0.000000   \n",
              "8949                    0.00             0.666667                    0.666667   \n",
              "\n",
              "      PURCHASES_INSTALLMENTS_FREQUENCY  PURCHASES_TRX  CREDIT_LIMIT  \\\n",
              "0                             0.083333              2        1000.0   \n",
              "1                             0.000000              0        7000.0   \n",
              "2                             0.000000             12        7500.0   \n",
              "3                             0.000000              1        7500.0   \n",
              "4                             0.000000              1        1200.0   \n",
              "...                                ...            ...           ...   \n",
              "8945                          0.833333              6        1000.0   \n",
              "8946                          0.833333              6        1000.0   \n",
              "8947                          0.666667              5        1000.0   \n",
              "8948                          0.000000              0         500.0   \n",
              "8949                          0.000000             23        1200.0   \n",
              "\n",
              "         PAYMENTS  MINIMUM_PAYMENTS  PRC_FULL_PAYMENT  TENURE  \n",
              "0      201.802084        139.509787          0.000000      12  \n",
              "1     4103.032597       1072.340217          0.222222      12  \n",
              "2      622.066742        627.284787          0.000000      12  \n",
              "3        0.000000               NaN          0.000000      12  \n",
              "4      678.334763        244.791237          0.000000      12  \n",
              "...           ...               ...               ...     ...  \n",
              "8945   325.594462         48.886365          0.500000       6  \n",
              "8946   275.861322               NaN          0.000000       6  \n",
              "8947    81.270775         82.418369          0.250000       6  \n",
              "8948    52.549959         55.755628          0.250000       6  \n",
              "8949    63.165404         88.288956          0.000000       6  \n",
              "\n",
              "[8950 rows x 14 columns]>"
            ]
          },
          "metadata": {},
          "execution_count": 32
        }
      ]
    },
    {
      "cell_type": "code",
      "source": [
        "df.info()"
      ],
      "metadata": {
        "colab": {
          "base_uri": "https://localhost:8080/"
        },
        "id": "9nHbSQmf93GG",
        "outputId": "771b137d-3dda-4fde-d385-7b0972129971"
      },
      "execution_count": 23,
      "outputs": [
        {
          "output_type": "stream",
          "name": "stdout",
          "text": [
            "<class 'pandas.core.frame.DataFrame'>\n",
            "RangeIndex: 8950 entries, 0 to 8949\n",
            "Data columns (total 14 columns):\n",
            " #   Column                            Non-Null Count  Dtype  \n",
            "---  ------                            --------------  -----  \n",
            " 0   BALANCE                           8950 non-null   float64\n",
            " 1   BALANCE_FREQUENCY                 8950 non-null   float64\n",
            " 2   PURCHASES                         8950 non-null   float64\n",
            " 3   ONEOFF_PURCHASES                  8950 non-null   float64\n",
            " 4   INSTALLMENTS_PURCHASES            8950 non-null   float64\n",
            " 5   PURCHASES_FREQUENCY               8950 non-null   float64\n",
            " 6   ONEOFF_PURCHASES_FREQUENCY        8950 non-null   float64\n",
            " 7   PURCHASES_INSTALLMENTS_FREQUENCY  8950 non-null   float64\n",
            " 8   PURCHASES_TRX                     8950 non-null   int64  \n",
            " 9   CREDIT_LIMIT                      8949 non-null   float64\n",
            " 10  PAYMENTS                          8950 non-null   float64\n",
            " 11  MINIMUM_PAYMENTS                  8637 non-null   float64\n",
            " 12  PRC_FULL_PAYMENT                  8950 non-null   float64\n",
            " 13  TENURE                            8950 non-null   int64  \n",
            "dtypes: float64(12), int64(2)\n",
            "memory usage: 979.0 KB\n"
          ]
        }
      ]
    },
    {
      "cell_type": "code",
      "source": [
        "df.shape"
      ],
      "metadata": {
        "colab": {
          "base_uri": "https://localhost:8080/"
        },
        "id": "fd9g1z56ZZOs",
        "outputId": "14209b99-2387-414a-9376-8bb100347026"
      },
      "execution_count": 45,
      "outputs": [
        {
          "output_type": "execute_result",
          "data": {
            "text/plain": [
              "(8950, 18)"
            ]
          },
          "metadata": {},
          "execution_count": 45
        }
      ]
    },
    {
      "cell_type": "code",
      "source": [
        "df.corr()"
      ],
      "metadata": {
        "colab": {
          "base_uri": "https://localhost:8080/",
          "height": 552
        },
        "id": "9BTtlnuc1e7R",
        "outputId": "de51915c-6cb4-4259-c2d9-9df8e7a5d102"
      },
      "execution_count": 31,
      "outputs": [
        {
          "output_type": "execute_result",
          "data": {
            "text/plain": [
              "                                   BALANCE  BALANCE_FREQUENCY  PURCHASES  \\\n",
              "BALANCE                           1.000000           0.322412   0.181261   \n",
              "BALANCE_FREQUENCY                 0.322412           1.000000   0.133674   \n",
              "PURCHASES                         0.181261           0.133674   1.000000   \n",
              "ONEOFF_PURCHASES                  0.164350           0.104323   0.916845   \n",
              "INSTALLMENTS_PURCHASES            0.126469           0.124292   0.679896   \n",
              "PURCHASES_FREQUENCY              -0.077944           0.229715   0.393017   \n",
              "ONEOFF_PURCHASES_FREQUENCY        0.073166           0.202415   0.498430   \n",
              "PURCHASES_INSTALLMENTS_FREQUENCY -0.063186           0.176079   0.315567   \n",
              "PURCHASES_TRX                     0.154338           0.189626   0.689561   \n",
              "CREDIT_LIMIT                      0.531283           0.095843   0.356963   \n",
              "PAYMENTS                          0.322802           0.065008   0.603264   \n",
              "MINIMUM_PAYMENTS                  0.398684           0.132569   0.093860   \n",
              "PRC_FULL_PAYMENT                 -0.318959          -0.095082   0.180379   \n",
              "TENURE                            0.072692           0.119776   0.086288   \n",
              "\n",
              "                                  ONEOFF_PURCHASES  INSTALLMENTS_PURCHASES  \\\n",
              "BALANCE                                   0.164350                0.126469   \n",
              "BALANCE_FREQUENCY                         0.104323                0.124292   \n",
              "PURCHASES                                 0.916845                0.679896   \n",
              "ONEOFF_PURCHASES                          1.000000                0.330622   \n",
              "INSTALLMENTS_PURCHASES                    0.330622                1.000000   \n",
              "PURCHASES_FREQUENCY                       0.264937                0.442418   \n",
              "ONEOFF_PURCHASES_FREQUENCY                0.524891                0.214042   \n",
              "PURCHASES_INSTALLMENTS_FREQUENCY          0.127729                0.511351   \n",
              "PURCHASES_TRX                             0.545523                0.628108   \n",
              "CREDIT_LIMIT                              0.319724                0.256499   \n",
              "PAYMENTS                                  0.567292                0.384084   \n",
              "MINIMUM_PAYMENTS                          0.048755                0.132172   \n",
              "PRC_FULL_PAYMENT                          0.132763                0.182569   \n",
              "TENURE                                    0.064150                0.086143   \n",
              "\n",
              "                                  PURCHASES_FREQUENCY  \\\n",
              "BALANCE                                     -0.077944   \n",
              "BALANCE_FREQUENCY                            0.229715   \n",
              "PURCHASES                                    0.393017   \n",
              "ONEOFF_PURCHASES                             0.264937   \n",
              "INSTALLMENTS_PURCHASES                       0.442418   \n",
              "PURCHASES_FREQUENCY                          1.000000   \n",
              "ONEOFF_PURCHASES_FREQUENCY                   0.501343   \n",
              "PURCHASES_INSTALLMENTS_FREQUENCY             0.862934   \n",
              "PURCHASES_TRX                                0.568430   \n",
              "CREDIT_LIMIT                                 0.119788   \n",
              "PAYMENTS                                     0.103464   \n",
              "MINIMUM_PAYMENTS                             0.003030   \n",
              "PRC_FULL_PAYMENT                             0.305802   \n",
              "TENURE                                       0.061506   \n",
              "\n",
              "                                  ONEOFF_PURCHASES_FREQUENCY  \\\n",
              "BALANCE                                             0.073166   \n",
              "BALANCE_FREQUENCY                                   0.202415   \n",
              "PURCHASES                                           0.498430   \n",
              "ONEOFF_PURCHASES                                    0.524891   \n",
              "INSTALLMENTS_PURCHASES                              0.214042   \n",
              "PURCHASES_FREQUENCY                                 0.501343   \n",
              "ONEOFF_PURCHASES_FREQUENCY                          1.000000   \n",
              "PURCHASES_INSTALLMENTS_FREQUENCY                    0.142329   \n",
              "PURCHASES_TRX                                       0.544869   \n",
              "CREDIT_LIMIT                                        0.295038   \n",
              "PAYMENTS                                            0.243537   \n",
              "MINIMUM_PAYMENTS                                   -0.030327   \n",
              "PRC_FULL_PAYMENT                                    0.157531   \n",
              "TENURE                                              0.082466   \n",
              "\n",
              "                                  PURCHASES_INSTALLMENTS_FREQUENCY  \\\n",
              "BALANCE                                                  -0.063186   \n",
              "BALANCE_FREQUENCY                                         0.176079   \n",
              "PURCHASES                                                 0.315567   \n",
              "ONEOFF_PURCHASES                                          0.127729   \n",
              "INSTALLMENTS_PURCHASES                                    0.511351   \n",
              "PURCHASES_FREQUENCY                                       0.862934   \n",
              "ONEOFF_PURCHASES_FREQUENCY                                0.142329   \n",
              "PURCHASES_INSTALLMENTS_FREQUENCY                          1.000000   \n",
              "PURCHASES_TRX                                             0.529975   \n",
              "CREDIT_LIMIT                                              0.060755   \n",
              "PAYMENTS                                                  0.085551   \n",
              "MINIMUM_PAYMENTS                                          0.030073   \n",
              "PRC_FULL_PAYMENT                                          0.250087   \n",
              "TENURE                                                    0.073275   \n",
              "\n",
              "                                  PURCHASES_TRX  CREDIT_LIMIT  PAYMENTS  \\\n",
              "BALANCE                                0.154338      0.531283  0.322802   \n",
              "BALANCE_FREQUENCY                      0.189626      0.095843  0.065008   \n",
              "PURCHASES                              0.689561      0.356963  0.603264   \n",
              "ONEOFF_PURCHASES                       0.545523      0.319724  0.567292   \n",
              "INSTALLMENTS_PURCHASES                 0.628108      0.256499  0.384084   \n",
              "PURCHASES_FREQUENCY                    0.568430      0.119788  0.103464   \n",
              "ONEOFF_PURCHASES_FREQUENCY             0.544869      0.295038  0.243537   \n",
              "PURCHASES_INSTALLMENTS_FREQUENCY       0.529975      0.060755  0.085551   \n",
              "PURCHASES_TRX                          1.000000      0.272882  0.370832   \n",
              "CREDIT_LIMIT                           0.272882      1.000000  0.421861   \n",
              "PAYMENTS                               0.370832      0.421861  1.000000   \n",
              "MINIMUM_PAYMENTS                       0.096333      0.126671  0.126651   \n",
              "PRC_FULL_PAYMENT                       0.162066      0.055672  0.112138   \n",
              "TENURE                                 0.121874      0.139167  0.106136   \n",
              "\n",
              "                                  MINIMUM_PAYMENTS  PRC_FULL_PAYMENT    TENURE  \n",
              "BALANCE                                   0.398684         -0.318959  0.072692  \n",
              "BALANCE_FREQUENCY                         0.132569         -0.095082  0.119776  \n",
              "PURCHASES                                 0.093860          0.180379  0.086288  \n",
              "ONEOFF_PURCHASES                          0.048755          0.132763  0.064150  \n",
              "INSTALLMENTS_PURCHASES                    0.132172          0.182569  0.086143  \n",
              "PURCHASES_FREQUENCY                       0.003030          0.305802  0.061506  \n",
              "ONEOFF_PURCHASES_FREQUENCY               -0.030327          0.157531  0.082466  \n",
              "PURCHASES_INSTALLMENTS_FREQUENCY          0.030073          0.250087  0.073275  \n",
              "PURCHASES_TRX                             0.096333          0.162066  0.121874  \n",
              "CREDIT_LIMIT                              0.126671          0.055672  0.139167  \n",
              "PAYMENTS                                  0.126651          0.112138  0.106136  \n",
              "MINIMUM_PAYMENTS                          1.000000         -0.140379  0.059444  \n",
              "PRC_FULL_PAYMENT                         -0.140379          1.000000 -0.016486  \n",
              "TENURE                                    0.059444         -0.016486  1.000000  "
            ],
            "text/html": [
              "\n",
              "  <div id=\"df-00f9ae41-1d6d-49a7-a116-fe63f279a491\">\n",
              "    <div class=\"colab-df-container\">\n",
              "      <div>\n",
              "<style scoped>\n",
              "    .dataframe tbody tr th:only-of-type {\n",
              "        vertical-align: middle;\n",
              "    }\n",
              "\n",
              "    .dataframe tbody tr th {\n",
              "        vertical-align: top;\n",
              "    }\n",
              "\n",
              "    .dataframe thead th {\n",
              "        text-align: right;\n",
              "    }\n",
              "</style>\n",
              "<table border=\"1\" class=\"dataframe\">\n",
              "  <thead>\n",
              "    <tr style=\"text-align: right;\">\n",
              "      <th></th>\n",
              "      <th>BALANCE</th>\n",
              "      <th>BALANCE_FREQUENCY</th>\n",
              "      <th>PURCHASES</th>\n",
              "      <th>ONEOFF_PURCHASES</th>\n",
              "      <th>INSTALLMENTS_PURCHASES</th>\n",
              "      <th>PURCHASES_FREQUENCY</th>\n",
              "      <th>ONEOFF_PURCHASES_FREQUENCY</th>\n",
              "      <th>PURCHASES_INSTALLMENTS_FREQUENCY</th>\n",
              "      <th>PURCHASES_TRX</th>\n",
              "      <th>CREDIT_LIMIT</th>\n",
              "      <th>PAYMENTS</th>\n",
              "      <th>MINIMUM_PAYMENTS</th>\n",
              "      <th>PRC_FULL_PAYMENT</th>\n",
              "      <th>TENURE</th>\n",
              "    </tr>\n",
              "  </thead>\n",
              "  <tbody>\n",
              "    <tr>\n",
              "      <th>BALANCE</th>\n",
              "      <td>1.000000</td>\n",
              "      <td>0.322412</td>\n",
              "      <td>0.181261</td>\n",
              "      <td>0.164350</td>\n",
              "      <td>0.126469</td>\n",
              "      <td>-0.077944</td>\n",
              "      <td>0.073166</td>\n",
              "      <td>-0.063186</td>\n",
              "      <td>0.154338</td>\n",
              "      <td>0.531283</td>\n",
              "      <td>0.322802</td>\n",
              "      <td>0.398684</td>\n",
              "      <td>-0.318959</td>\n",
              "      <td>0.072692</td>\n",
              "    </tr>\n",
              "    <tr>\n",
              "      <th>BALANCE_FREQUENCY</th>\n",
              "      <td>0.322412</td>\n",
              "      <td>1.000000</td>\n",
              "      <td>0.133674</td>\n",
              "      <td>0.104323</td>\n",
              "      <td>0.124292</td>\n",
              "      <td>0.229715</td>\n",
              "      <td>0.202415</td>\n",
              "      <td>0.176079</td>\n",
              "      <td>0.189626</td>\n",
              "      <td>0.095843</td>\n",
              "      <td>0.065008</td>\n",
              "      <td>0.132569</td>\n",
              "      <td>-0.095082</td>\n",
              "      <td>0.119776</td>\n",
              "    </tr>\n",
              "    <tr>\n",
              "      <th>PURCHASES</th>\n",
              "      <td>0.181261</td>\n",
              "      <td>0.133674</td>\n",
              "      <td>1.000000</td>\n",
              "      <td>0.916845</td>\n",
              "      <td>0.679896</td>\n",
              "      <td>0.393017</td>\n",
              "      <td>0.498430</td>\n",
              "      <td>0.315567</td>\n",
              "      <td>0.689561</td>\n",
              "      <td>0.356963</td>\n",
              "      <td>0.603264</td>\n",
              "      <td>0.093860</td>\n",
              "      <td>0.180379</td>\n",
              "      <td>0.086288</td>\n",
              "    </tr>\n",
              "    <tr>\n",
              "      <th>ONEOFF_PURCHASES</th>\n",
              "      <td>0.164350</td>\n",
              "      <td>0.104323</td>\n",
              "      <td>0.916845</td>\n",
              "      <td>1.000000</td>\n",
              "      <td>0.330622</td>\n",
              "      <td>0.264937</td>\n",
              "      <td>0.524891</td>\n",
              "      <td>0.127729</td>\n",
              "      <td>0.545523</td>\n",
              "      <td>0.319724</td>\n",
              "      <td>0.567292</td>\n",
              "      <td>0.048755</td>\n",
              "      <td>0.132763</td>\n",
              "      <td>0.064150</td>\n",
              "    </tr>\n",
              "    <tr>\n",
              "      <th>INSTALLMENTS_PURCHASES</th>\n",
              "      <td>0.126469</td>\n",
              "      <td>0.124292</td>\n",
              "      <td>0.679896</td>\n",
              "      <td>0.330622</td>\n",
              "      <td>1.000000</td>\n",
              "      <td>0.442418</td>\n",
              "      <td>0.214042</td>\n",
              "      <td>0.511351</td>\n",
              "      <td>0.628108</td>\n",
              "      <td>0.256499</td>\n",
              "      <td>0.384084</td>\n",
              "      <td>0.132172</td>\n",
              "      <td>0.182569</td>\n",
              "      <td>0.086143</td>\n",
              "    </tr>\n",
              "    <tr>\n",
              "      <th>PURCHASES_FREQUENCY</th>\n",
              "      <td>-0.077944</td>\n",
              "      <td>0.229715</td>\n",
              "      <td>0.393017</td>\n",
              "      <td>0.264937</td>\n",
              "      <td>0.442418</td>\n",
              "      <td>1.000000</td>\n",
              "      <td>0.501343</td>\n",
              "      <td>0.862934</td>\n",
              "      <td>0.568430</td>\n",
              "      <td>0.119788</td>\n",
              "      <td>0.103464</td>\n",
              "      <td>0.003030</td>\n",
              "      <td>0.305802</td>\n",
              "      <td>0.061506</td>\n",
              "    </tr>\n",
              "    <tr>\n",
              "      <th>ONEOFF_PURCHASES_FREQUENCY</th>\n",
              "      <td>0.073166</td>\n",
              "      <td>0.202415</td>\n",
              "      <td>0.498430</td>\n",
              "      <td>0.524891</td>\n",
              "      <td>0.214042</td>\n",
              "      <td>0.501343</td>\n",
              "      <td>1.000000</td>\n",
              "      <td>0.142329</td>\n",
              "      <td>0.544869</td>\n",
              "      <td>0.295038</td>\n",
              "      <td>0.243537</td>\n",
              "      <td>-0.030327</td>\n",
              "      <td>0.157531</td>\n",
              "      <td>0.082466</td>\n",
              "    </tr>\n",
              "    <tr>\n",
              "      <th>PURCHASES_INSTALLMENTS_FREQUENCY</th>\n",
              "      <td>-0.063186</td>\n",
              "      <td>0.176079</td>\n",
              "      <td>0.315567</td>\n",
              "      <td>0.127729</td>\n",
              "      <td>0.511351</td>\n",
              "      <td>0.862934</td>\n",
              "      <td>0.142329</td>\n",
              "      <td>1.000000</td>\n",
              "      <td>0.529975</td>\n",
              "      <td>0.060755</td>\n",
              "      <td>0.085551</td>\n",
              "      <td>0.030073</td>\n",
              "      <td>0.250087</td>\n",
              "      <td>0.073275</td>\n",
              "    </tr>\n",
              "    <tr>\n",
              "      <th>PURCHASES_TRX</th>\n",
              "      <td>0.154338</td>\n",
              "      <td>0.189626</td>\n",
              "      <td>0.689561</td>\n",
              "      <td>0.545523</td>\n",
              "      <td>0.628108</td>\n",
              "      <td>0.568430</td>\n",
              "      <td>0.544869</td>\n",
              "      <td>0.529975</td>\n",
              "      <td>1.000000</td>\n",
              "      <td>0.272882</td>\n",
              "      <td>0.370832</td>\n",
              "      <td>0.096333</td>\n",
              "      <td>0.162066</td>\n",
              "      <td>0.121874</td>\n",
              "    </tr>\n",
              "    <tr>\n",
              "      <th>CREDIT_LIMIT</th>\n",
              "      <td>0.531283</td>\n",
              "      <td>0.095843</td>\n",
              "      <td>0.356963</td>\n",
              "      <td>0.319724</td>\n",
              "      <td>0.256499</td>\n",
              "      <td>0.119788</td>\n",
              "      <td>0.295038</td>\n",
              "      <td>0.060755</td>\n",
              "      <td>0.272882</td>\n",
              "      <td>1.000000</td>\n",
              "      <td>0.421861</td>\n",
              "      <td>0.126671</td>\n",
              "      <td>0.055672</td>\n",
              "      <td>0.139167</td>\n",
              "    </tr>\n",
              "    <tr>\n",
              "      <th>PAYMENTS</th>\n",
              "      <td>0.322802</td>\n",
              "      <td>0.065008</td>\n",
              "      <td>0.603264</td>\n",
              "      <td>0.567292</td>\n",
              "      <td>0.384084</td>\n",
              "      <td>0.103464</td>\n",
              "      <td>0.243537</td>\n",
              "      <td>0.085551</td>\n",
              "      <td>0.370832</td>\n",
              "      <td>0.421861</td>\n",
              "      <td>1.000000</td>\n",
              "      <td>0.126651</td>\n",
              "      <td>0.112138</td>\n",
              "      <td>0.106136</td>\n",
              "    </tr>\n",
              "    <tr>\n",
              "      <th>MINIMUM_PAYMENTS</th>\n",
              "      <td>0.398684</td>\n",
              "      <td>0.132569</td>\n",
              "      <td>0.093860</td>\n",
              "      <td>0.048755</td>\n",
              "      <td>0.132172</td>\n",
              "      <td>0.003030</td>\n",
              "      <td>-0.030327</td>\n",
              "      <td>0.030073</td>\n",
              "      <td>0.096333</td>\n",
              "      <td>0.126671</td>\n",
              "      <td>0.126651</td>\n",
              "      <td>1.000000</td>\n",
              "      <td>-0.140379</td>\n",
              "      <td>0.059444</td>\n",
              "    </tr>\n",
              "    <tr>\n",
              "      <th>PRC_FULL_PAYMENT</th>\n",
              "      <td>-0.318959</td>\n",
              "      <td>-0.095082</td>\n",
              "      <td>0.180379</td>\n",
              "      <td>0.132763</td>\n",
              "      <td>0.182569</td>\n",
              "      <td>0.305802</td>\n",
              "      <td>0.157531</td>\n",
              "      <td>0.250087</td>\n",
              "      <td>0.162066</td>\n",
              "      <td>0.055672</td>\n",
              "      <td>0.112138</td>\n",
              "      <td>-0.140379</td>\n",
              "      <td>1.000000</td>\n",
              "      <td>-0.016486</td>\n",
              "    </tr>\n",
              "    <tr>\n",
              "      <th>TENURE</th>\n",
              "      <td>0.072692</td>\n",
              "      <td>0.119776</td>\n",
              "      <td>0.086288</td>\n",
              "      <td>0.064150</td>\n",
              "      <td>0.086143</td>\n",
              "      <td>0.061506</td>\n",
              "      <td>0.082466</td>\n",
              "      <td>0.073275</td>\n",
              "      <td>0.121874</td>\n",
              "      <td>0.139167</td>\n",
              "      <td>0.106136</td>\n",
              "      <td>0.059444</td>\n",
              "      <td>-0.016486</td>\n",
              "      <td>1.000000</td>\n",
              "    </tr>\n",
              "  </tbody>\n",
              "</table>\n",
              "</div>\n",
              "      <button class=\"colab-df-convert\" onclick=\"convertToInteractive('df-00f9ae41-1d6d-49a7-a116-fe63f279a491')\"\n",
              "              title=\"Convert this dataframe to an interactive table.\"\n",
              "              style=\"display:none;\">\n",
              "        \n",
              "  <svg xmlns=\"http://www.w3.org/2000/svg\" height=\"24px\"viewBox=\"0 0 24 24\"\n",
              "       width=\"24px\">\n",
              "    <path d=\"M0 0h24v24H0V0z\" fill=\"none\"/>\n",
              "    <path d=\"M18.56 5.44l.94 2.06.94-2.06 2.06-.94-2.06-.94-.94-2.06-.94 2.06-2.06.94zm-11 1L8.5 8.5l.94-2.06 2.06-.94-2.06-.94L8.5 2.5l-.94 2.06-2.06.94zm10 10l.94 2.06.94-2.06 2.06-.94-2.06-.94-.94-2.06-.94 2.06-2.06.94z\"/><path d=\"M17.41 7.96l-1.37-1.37c-.4-.4-.92-.59-1.43-.59-.52 0-1.04.2-1.43.59L10.3 9.45l-7.72 7.72c-.78.78-.78 2.05 0 2.83L4 21.41c.39.39.9.59 1.41.59.51 0 1.02-.2 1.41-.59l7.78-7.78 2.81-2.81c.8-.78.8-2.07 0-2.86zM5.41 20L4 18.59l7.72-7.72 1.47 1.35L5.41 20z\"/>\n",
              "  </svg>\n",
              "      </button>\n",
              "      \n",
              "  <style>\n",
              "    .colab-df-container {\n",
              "      display:flex;\n",
              "      flex-wrap:wrap;\n",
              "      gap: 12px;\n",
              "    }\n",
              "\n",
              "    .colab-df-convert {\n",
              "      background-color: #E8F0FE;\n",
              "      border: none;\n",
              "      border-radius: 50%;\n",
              "      cursor: pointer;\n",
              "      display: none;\n",
              "      fill: #1967D2;\n",
              "      height: 32px;\n",
              "      padding: 0 0 0 0;\n",
              "      width: 32px;\n",
              "    }\n",
              "\n",
              "    .colab-df-convert:hover {\n",
              "      background-color: #E2EBFA;\n",
              "      box-shadow: 0px 1px 2px rgba(60, 64, 67, 0.3), 0px 1px 3px 1px rgba(60, 64, 67, 0.15);\n",
              "      fill: #174EA6;\n",
              "    }\n",
              "\n",
              "    [theme=dark] .colab-df-convert {\n",
              "      background-color: #3B4455;\n",
              "      fill: #D2E3FC;\n",
              "    }\n",
              "\n",
              "    [theme=dark] .colab-df-convert:hover {\n",
              "      background-color: #434B5C;\n",
              "      box-shadow: 0px 1px 3px 1px rgba(0, 0, 0, 0.15);\n",
              "      filter: drop-shadow(0px 1px 2px rgba(0, 0, 0, 0.3));\n",
              "      fill: #FFFFFF;\n",
              "    }\n",
              "  </style>\n",
              "\n",
              "      <script>\n",
              "        const buttonEl =\n",
              "          document.querySelector('#df-00f9ae41-1d6d-49a7-a116-fe63f279a491 button.colab-df-convert');\n",
              "        buttonEl.style.display =\n",
              "          google.colab.kernel.accessAllowed ? 'block' : 'none';\n",
              "\n",
              "        async function convertToInteractive(key) {\n",
              "          const element = document.querySelector('#df-00f9ae41-1d6d-49a7-a116-fe63f279a491');\n",
              "          const dataTable =\n",
              "            await google.colab.kernel.invokeFunction('convertToInteractive',\n",
              "                                                     [key], {});\n",
              "          if (!dataTable) return;\n",
              "\n",
              "          const docLinkHtml = 'Like what you see? Visit the ' +\n",
              "            '<a target=\"_blank\" href=https://colab.research.google.com/notebooks/data_table.ipynb>data table notebook</a>'\n",
              "            + ' to learn more about interactive tables.';\n",
              "          element.innerHTML = '';\n",
              "          dataTable['output_type'] = 'display_data';\n",
              "          await google.colab.output.renderOutput(dataTable, element);\n",
              "          const docLink = document.createElement('div');\n",
              "          docLink.innerHTML = docLinkHtml;\n",
              "          element.appendChild(docLink);\n",
              "        }\n",
              "      </script>\n",
              "    </div>\n",
              "  </div>\n",
              "  "
            ]
          },
          "metadata": {},
          "execution_count": 31
        }
      ]
    },
    {
      "cell_type": "code",
      "source": [
        "df=df.drop(['CUST_ID'],axis=1)"
      ],
      "metadata": {
        "id": "XVa0S9Jl-fa_"
      },
      "execution_count": 34,
      "outputs": []
    },
    {
      "cell_type": "code",
      "source": [
        "df.columns"
      ],
      "metadata": {
        "colab": {
          "base_uri": "https://localhost:8080/"
        },
        "id": "fYId57Gh0CTW",
        "outputId": "004ccb16-f96b-4be3-cf78-ff4a1fd8b0ab"
      },
      "execution_count": 36,
      "outputs": [
        {
          "output_type": "execute_result",
          "data": {
            "text/plain": [
              "Index(['BALANCE', 'BALANCE_FREQUENCY', 'PURCHASES', 'ONEOFF_PURCHASES',\n",
              "       'INSTALLMENTS_PURCHASES', 'CASH_ADVANCE', 'PURCHASES_FREQUENCY',\n",
              "       'ONEOFF_PURCHASES_FREQUENCY', 'PURCHASES_INSTALLMENTS_FREQUENCY',\n",
              "       'CASH_ADVANCE_FREQUENCY', 'CASH_ADVANCE_TRX', 'PURCHASES_TRX',\n",
              "       'CREDIT_LIMIT', 'PAYMENTS', 'MINIMUM_PAYMENTS', 'PRC_FULL_PAYMENT',\n",
              "       'TENURE'],\n",
              "      dtype='object')"
            ]
          },
          "metadata": {},
          "execution_count": 36
        }
      ]
    },
    {
      "cell_type": "code",
      "source": [
        "df.shape"
      ],
      "metadata": {
        "colab": {
          "base_uri": "https://localhost:8080/"
        },
        "id": "afZnf-Tk0GKE",
        "outputId": "0147ec9e-95df-47e7-c193-0f72e65d3687"
      },
      "execution_count": 26,
      "outputs": [
        {
          "output_type": "execute_result",
          "data": {
            "text/plain": [
              "(8950, 14)"
            ]
          },
          "metadata": {},
          "execution_count": 26
        }
      ]
    },
    {
      "cell_type": "code",
      "source": [
        "df.info()"
      ],
      "metadata": {
        "colab": {
          "base_uri": "https://localhost:8080/"
        },
        "id": "LNXNCgxU0JbQ",
        "outputId": "4e5ac4d4-e579-4165-beb0-967e93c6691f"
      },
      "execution_count": 37,
      "outputs": [
        {
          "output_type": "stream",
          "name": "stdout",
          "text": [
            "<class 'pandas.core.frame.DataFrame'>\n",
            "RangeIndex: 8950 entries, 0 to 8949\n",
            "Data columns (total 17 columns):\n",
            " #   Column                            Non-Null Count  Dtype  \n",
            "---  ------                            --------------  -----  \n",
            " 0   BALANCE                           8950 non-null   float64\n",
            " 1   BALANCE_FREQUENCY                 8950 non-null   float64\n",
            " 2   PURCHASES                         8950 non-null   float64\n",
            " 3   ONEOFF_PURCHASES                  8950 non-null   float64\n",
            " 4   INSTALLMENTS_PURCHASES            8950 non-null   float64\n",
            " 5   CASH_ADVANCE                      8950 non-null   float64\n",
            " 6   PURCHASES_FREQUENCY               8950 non-null   float64\n",
            " 7   ONEOFF_PURCHASES_FREQUENCY        8950 non-null   float64\n",
            " 8   PURCHASES_INSTALLMENTS_FREQUENCY  8950 non-null   float64\n",
            " 9   CASH_ADVANCE_FREQUENCY            8950 non-null   float64\n",
            " 10  CASH_ADVANCE_TRX                  8950 non-null   int64  \n",
            " 11  PURCHASES_TRX                     8950 non-null   int64  \n",
            " 12  CREDIT_LIMIT                      8949 non-null   float64\n",
            " 13  PAYMENTS                          8950 non-null   float64\n",
            " 14  MINIMUM_PAYMENTS                  8637 non-null   float64\n",
            " 15  PRC_FULL_PAYMENT                  8950 non-null   float64\n",
            " 16  TENURE                            8950 non-null   int64  \n",
            "dtypes: float64(14), int64(3)\n",
            "memory usage: 1.2 MB\n"
          ]
        }
      ]
    },
    {
      "cell_type": "code",
      "source": [
        "for i in df.columns:\n",
        "  if df[i].isnull().sum()>0:\n",
        "    if df[i].dtype==\"float64\":\n",
        "      df[i]=df[i].fillna(df[i].median())"
      ],
      "metadata": {
        "id": "dCC3988V1Ecw"
      },
      "execution_count": 46,
      "outputs": []
    },
    {
      "cell_type": "code",
      "source": [
        "df.isnull().sum()"
      ],
      "metadata": {
        "colab": {
          "base_uri": "https://localhost:8080/"
        },
        "id": "n6MNIPDc1NQl",
        "outputId": "f349be87-5f7d-49b0-99aa-e4ac6a93694c"
      },
      "execution_count": 47,
      "outputs": [
        {
          "output_type": "execute_result",
          "data": {
            "text/plain": [
              "CUST_ID                             0\n",
              "BALANCE                             0\n",
              "BALANCE_FREQUENCY                   0\n",
              "PURCHASES                           0\n",
              "ONEOFF_PURCHASES                    0\n",
              "INSTALLMENTS_PURCHASES              0\n",
              "CASH_ADVANCE                        0\n",
              "PURCHASES_FREQUENCY                 0\n",
              "ONEOFF_PURCHASES_FREQUENCY          0\n",
              "PURCHASES_INSTALLMENTS_FREQUENCY    0\n",
              "CASH_ADVANCE_FREQUENCY              0\n",
              "CASH_ADVANCE_TRX                    0\n",
              "PURCHASES_TRX                       0\n",
              "CREDIT_LIMIT                        0\n",
              "PAYMENTS                            0\n",
              "MINIMUM_PAYMENTS                    0\n",
              "PRC_FULL_PAYMENT                    0\n",
              "TENURE                              0\n",
              "dtype: int64"
            ]
          },
          "metadata": {},
          "execution_count": 47
        }
      ]
    },
    {
      "cell_type": "code",
      "source": [
        "df.dropna(subset=['CREDIT_LIMIT'], inplace=True)"
      ],
      "metadata": {
        "id": "1y_lyktz4Q4z"
      },
      "execution_count": 48,
      "outputs": []
    },
    {
      "cell_type": "code",
      "source": [
        "mean = np.mean(df)\n",
        "std = np.std(df)\n",
        "print(\"Mean:\\n\",mean)\n",
        "print(\"Standard Deviation:\\n\",std)"
      ],
      "metadata": {
        "colab": {
          "base_uri": "https://localhost:8080/"
        },
        "id": "ttr0i0os4T00",
        "outputId": "66e7a700-6772-4e68-f9ec-2a38e46be505"
      },
      "execution_count": 49,
      "outputs": [
        {
          "output_type": "stream",
          "name": "stdout",
          "text": [
            "Mean:\n",
            " BALANCE                             1564.474828\n",
            "BALANCE_FREQUENCY                      0.877271\n",
            "PURCHASES                           1003.204834\n",
            "ONEOFF_PURCHASES                     592.437371\n",
            "INSTALLMENTS_PURCHASES               411.067645\n",
            "CASH_ADVANCE                         978.871112\n",
            "PURCHASES_FREQUENCY                    0.490351\n",
            "ONEOFF_PURCHASES_FREQUENCY             0.202458\n",
            "PURCHASES_INSTALLMENTS_FREQUENCY       0.364437\n",
            "CASH_ADVANCE_FREQUENCY                 0.135144\n",
            "CASH_ADVANCE_TRX                       3.248827\n",
            "PURCHASES_TRX                         14.709832\n",
            "CREDIT_LIMIT                        4494.282473\n",
            "PAYMENTS                            1733.143852\n",
            "MINIMUM_PAYMENTS                     844.906767\n",
            "PRC_FULL_PAYMENT                       0.153715\n",
            "TENURE                                11.517318\n",
            "dtype: float64\n",
            "Standard Deviation:\n",
            " BALANCE                             2081.415590\n",
            "BALANCE_FREQUENCY                      0.236891\n",
            "PURCHASES                           2136.515413\n",
            "ONEOFF_PURCHASES                    1659.795184\n",
            "INSTALLMENTS_PURCHASES               904.287592\n",
            "CASH_ADVANCE                        2097.046713\n",
            "PURCHASES_FREQUENCY                    0.401348\n",
            "ONEOFF_PURCHASES_FREQUENCY             0.298319\n",
            "PURCHASES_INSTALLMENTS_FREQUENCY       0.397426\n",
            "CASH_ADVANCE_FREQUENCY                 0.200110\n",
            "CASH_ADVANCE_TRX                       6.824265\n",
            "PURCHASES_TRX                         24.856260\n",
            "CREDIT_LIMIT                        3638.443420\n",
            "PAYMENTS                            2894.902017\n",
            "MINIMUM_PAYMENTS                    2332.661994\n",
            "PRC_FULL_PAYMENT                       0.292483\n",
            "TENURE                                 1.338256\n",
            "dtype: float64\n"
          ]
        },
        {
          "output_type": "stream",
          "name": "stderr",
          "text": [
            "/usr/local/lib/python3.7/dist-packages/numpy/core/fromnumeric.py:3438: FutureWarning: Dropping of nuisance columns in DataFrame reductions (with 'numeric_only=None') is deprecated; in a future version this will raise TypeError.  Select only valid columns before calling the reduction.\n",
            "  return mean(axis=axis, dtype=dtype, out=out, **kwargs)\n",
            "/usr/local/lib/python3.7/dist-packages/numpy/core/fromnumeric.py:3579: FutureWarning: Dropping of nuisance columns in DataFrame reductions (with 'numeric_only=None') is deprecated; in a future version this will raise TypeError.  Select only valid columns before calling the reduction.\n",
            "  return std(axis=axis, dtype=dtype, out=out, ddof=ddof, **kwargs)\n"
          ]
        }
      ]
    },
    {
      "cell_type": "code",
      "source": [
        "df.head()"
      ],
      "metadata": {
        "colab": {
          "base_uri": "https://localhost:8080/",
          "height": 270
        },
        "id": "OGY36l4m4Z4S",
        "outputId": "b6df1dfc-3e41-4e21-9298-77aac4d9d0b3"
      },
      "execution_count": 18,
      "outputs": [
        {
          "output_type": "execute_result",
          "data": {
            "text/plain": [
              "       BALANCE  BALANCE_FREQUENCY  PURCHASES  ONEOFF_PURCHASES  \\\n",
              "0    40.900749           0.818182      95.40              0.00   \n",
              "1  3202.467416           0.909091       0.00              0.00   \n",
              "2  2495.148862           1.000000     773.17            773.17   \n",
              "3  1666.670542           0.636364    1499.00           1499.00   \n",
              "4   817.714335           1.000000      16.00             16.00   \n",
              "\n",
              "   INSTALLMENTS_PURCHASES  PURCHASES_FREQUENCY  ONEOFF_PURCHASES_FREQUENCY  \\\n",
              "0                    95.4             0.166667                    0.000000   \n",
              "1                     0.0             0.000000                    0.000000   \n",
              "2                     0.0             1.000000                    1.000000   \n",
              "3                     0.0             0.083333                    0.083333   \n",
              "4                     0.0             0.083333                    0.083333   \n",
              "\n",
              "   PURCHASES_INSTALLMENTS_FREQUENCY  PURCHASES_TRX  CREDIT_LIMIT     PAYMENTS  \\\n",
              "0                          0.083333              2        1000.0   201.802084   \n",
              "1                          0.000000              0        7000.0  4103.032597   \n",
              "2                          0.000000             12        7500.0   622.066742   \n",
              "3                          0.000000              1        7500.0     0.000000   \n",
              "4                          0.000000              1        1200.0   678.334763   \n",
              "\n",
              "   MINIMUM_PAYMENTS  PRC_FULL_PAYMENT  TENURE  \n",
              "0        139.509787          0.000000      12  \n",
              "1       1072.340217          0.222222      12  \n",
              "2        627.284787          0.000000      12  \n",
              "3               NaN          0.000000      12  \n",
              "4        244.791237          0.000000      12  "
            ],
            "text/html": [
              "\n",
              "  <div id=\"df-be7669f6-c24e-489e-8e7e-744bbe0b1b82\">\n",
              "    <div class=\"colab-df-container\">\n",
              "      <div>\n",
              "<style scoped>\n",
              "    .dataframe tbody tr th:only-of-type {\n",
              "        vertical-align: middle;\n",
              "    }\n",
              "\n",
              "    .dataframe tbody tr th {\n",
              "        vertical-align: top;\n",
              "    }\n",
              "\n",
              "    .dataframe thead th {\n",
              "        text-align: right;\n",
              "    }\n",
              "</style>\n",
              "<table border=\"1\" class=\"dataframe\">\n",
              "  <thead>\n",
              "    <tr style=\"text-align: right;\">\n",
              "      <th></th>\n",
              "      <th>BALANCE</th>\n",
              "      <th>BALANCE_FREQUENCY</th>\n",
              "      <th>PURCHASES</th>\n",
              "      <th>ONEOFF_PURCHASES</th>\n",
              "      <th>INSTALLMENTS_PURCHASES</th>\n",
              "      <th>PURCHASES_FREQUENCY</th>\n",
              "      <th>ONEOFF_PURCHASES_FREQUENCY</th>\n",
              "      <th>PURCHASES_INSTALLMENTS_FREQUENCY</th>\n",
              "      <th>PURCHASES_TRX</th>\n",
              "      <th>CREDIT_LIMIT</th>\n",
              "      <th>PAYMENTS</th>\n",
              "      <th>MINIMUM_PAYMENTS</th>\n",
              "      <th>PRC_FULL_PAYMENT</th>\n",
              "      <th>TENURE</th>\n",
              "    </tr>\n",
              "  </thead>\n",
              "  <tbody>\n",
              "    <tr>\n",
              "      <th>0</th>\n",
              "      <td>40.900749</td>\n",
              "      <td>0.818182</td>\n",
              "      <td>95.40</td>\n",
              "      <td>0.00</td>\n",
              "      <td>95.4</td>\n",
              "      <td>0.166667</td>\n",
              "      <td>0.000000</td>\n",
              "      <td>0.083333</td>\n",
              "      <td>2</td>\n",
              "      <td>1000.0</td>\n",
              "      <td>201.802084</td>\n",
              "      <td>139.509787</td>\n",
              "      <td>0.000000</td>\n",
              "      <td>12</td>\n",
              "    </tr>\n",
              "    <tr>\n",
              "      <th>1</th>\n",
              "      <td>3202.467416</td>\n",
              "      <td>0.909091</td>\n",
              "      <td>0.00</td>\n",
              "      <td>0.00</td>\n",
              "      <td>0.0</td>\n",
              "      <td>0.000000</td>\n",
              "      <td>0.000000</td>\n",
              "      <td>0.000000</td>\n",
              "      <td>0</td>\n",
              "      <td>7000.0</td>\n",
              "      <td>4103.032597</td>\n",
              "      <td>1072.340217</td>\n",
              "      <td>0.222222</td>\n",
              "      <td>12</td>\n",
              "    </tr>\n",
              "    <tr>\n",
              "      <th>2</th>\n",
              "      <td>2495.148862</td>\n",
              "      <td>1.000000</td>\n",
              "      <td>773.17</td>\n",
              "      <td>773.17</td>\n",
              "      <td>0.0</td>\n",
              "      <td>1.000000</td>\n",
              "      <td>1.000000</td>\n",
              "      <td>0.000000</td>\n",
              "      <td>12</td>\n",
              "      <td>7500.0</td>\n",
              "      <td>622.066742</td>\n",
              "      <td>627.284787</td>\n",
              "      <td>0.000000</td>\n",
              "      <td>12</td>\n",
              "    </tr>\n",
              "    <tr>\n",
              "      <th>3</th>\n",
              "      <td>1666.670542</td>\n",
              "      <td>0.636364</td>\n",
              "      <td>1499.00</td>\n",
              "      <td>1499.00</td>\n",
              "      <td>0.0</td>\n",
              "      <td>0.083333</td>\n",
              "      <td>0.083333</td>\n",
              "      <td>0.000000</td>\n",
              "      <td>1</td>\n",
              "      <td>7500.0</td>\n",
              "      <td>0.000000</td>\n",
              "      <td>NaN</td>\n",
              "      <td>0.000000</td>\n",
              "      <td>12</td>\n",
              "    </tr>\n",
              "    <tr>\n",
              "      <th>4</th>\n",
              "      <td>817.714335</td>\n",
              "      <td>1.000000</td>\n",
              "      <td>16.00</td>\n",
              "      <td>16.00</td>\n",
              "      <td>0.0</td>\n",
              "      <td>0.083333</td>\n",
              "      <td>0.083333</td>\n",
              "      <td>0.000000</td>\n",
              "      <td>1</td>\n",
              "      <td>1200.0</td>\n",
              "      <td>678.334763</td>\n",
              "      <td>244.791237</td>\n",
              "      <td>0.000000</td>\n",
              "      <td>12</td>\n",
              "    </tr>\n",
              "  </tbody>\n",
              "</table>\n",
              "</div>\n",
              "      <button class=\"colab-df-convert\" onclick=\"convertToInteractive('df-be7669f6-c24e-489e-8e7e-744bbe0b1b82')\"\n",
              "              title=\"Convert this dataframe to an interactive table.\"\n",
              "              style=\"display:none;\">\n",
              "        \n",
              "  <svg xmlns=\"http://www.w3.org/2000/svg\" height=\"24px\"viewBox=\"0 0 24 24\"\n",
              "       width=\"24px\">\n",
              "    <path d=\"M0 0h24v24H0V0z\" fill=\"none\"/>\n",
              "    <path d=\"M18.56 5.44l.94 2.06.94-2.06 2.06-.94-2.06-.94-.94-2.06-.94 2.06-2.06.94zm-11 1L8.5 8.5l.94-2.06 2.06-.94-2.06-.94L8.5 2.5l-.94 2.06-2.06.94zm10 10l.94 2.06.94-2.06 2.06-.94-2.06-.94-.94-2.06-.94 2.06-2.06.94z\"/><path d=\"M17.41 7.96l-1.37-1.37c-.4-.4-.92-.59-1.43-.59-.52 0-1.04.2-1.43.59L10.3 9.45l-7.72 7.72c-.78.78-.78 2.05 0 2.83L4 21.41c.39.39.9.59 1.41.59.51 0 1.02-.2 1.41-.59l7.78-7.78 2.81-2.81c.8-.78.8-2.07 0-2.86zM5.41 20L4 18.59l7.72-7.72 1.47 1.35L5.41 20z\"/>\n",
              "  </svg>\n",
              "      </button>\n",
              "      \n",
              "  <style>\n",
              "    .colab-df-container {\n",
              "      display:flex;\n",
              "      flex-wrap:wrap;\n",
              "      gap: 12px;\n",
              "    }\n",
              "\n",
              "    .colab-df-convert {\n",
              "      background-color: #E8F0FE;\n",
              "      border: none;\n",
              "      border-radius: 50%;\n",
              "      cursor: pointer;\n",
              "      display: none;\n",
              "      fill: #1967D2;\n",
              "      height: 32px;\n",
              "      padding: 0 0 0 0;\n",
              "      width: 32px;\n",
              "    }\n",
              "\n",
              "    .colab-df-convert:hover {\n",
              "      background-color: #E2EBFA;\n",
              "      box-shadow: 0px 1px 2px rgba(60, 64, 67, 0.3), 0px 1px 3px 1px rgba(60, 64, 67, 0.15);\n",
              "      fill: #174EA6;\n",
              "    }\n",
              "\n",
              "    [theme=dark] .colab-df-convert {\n",
              "      background-color: #3B4455;\n",
              "      fill: #D2E3FC;\n",
              "    }\n",
              "\n",
              "    [theme=dark] .colab-df-convert:hover {\n",
              "      background-color: #434B5C;\n",
              "      box-shadow: 0px 1px 3px 1px rgba(0, 0, 0, 0.15);\n",
              "      filter: drop-shadow(0px 1px 2px rgba(0, 0, 0, 0.3));\n",
              "      fill: #FFFFFF;\n",
              "    }\n",
              "  </style>\n",
              "\n",
              "      <script>\n",
              "        const buttonEl =\n",
              "          document.querySelector('#df-be7669f6-c24e-489e-8e7e-744bbe0b1b82 button.colab-df-convert');\n",
              "        buttonEl.style.display =\n",
              "          google.colab.kernel.accessAllowed ? 'block' : 'none';\n",
              "\n",
              "        async function convertToInteractive(key) {\n",
              "          const element = document.querySelector('#df-be7669f6-c24e-489e-8e7e-744bbe0b1b82');\n",
              "          const dataTable =\n",
              "            await google.colab.kernel.invokeFunction('convertToInteractive',\n",
              "                                                     [key], {});\n",
              "          if (!dataTable) return;\n",
              "\n",
              "          const docLinkHtml = 'Like what you see? Visit the ' +\n",
              "            '<a target=\"_blank\" href=https://colab.research.google.com/notebooks/data_table.ipynb>data table notebook</a>'\n",
              "            + ' to learn more about interactive tables.';\n",
              "          element.innerHTML = '';\n",
              "          dataTable['output_type'] = 'display_data';\n",
              "          await google.colab.output.renderOutput(dataTable, element);\n",
              "          const docLink = document.createElement('div');\n",
              "          docLink.innerHTML = docLinkHtml;\n",
              "          element.appendChild(docLink);\n",
              "        }\n",
              "      </script>\n",
              "    </div>\n",
              "  </div>\n",
              "  "
            ]
          },
          "metadata": {},
          "execution_count": 18
        }
      ]
    },
    {
      "cell_type": "code",
      "source": [
        "x=df[['PURCHASES','ONEOFF_PURCHASES','PURCHASES_FREQUENCY','PURCHASES_INSTALLMENTS_FREQUENCY','CASH_ADVANCE_TRX','CASH_ADVANCE_FREQUENCY']]"
      ],
      "metadata": {
        "id": "Mu10oh9W4b-K"
      },
      "execution_count": 50,
      "outputs": []
    },
    {
      "cell_type": "code",
      "source": [
        "df['PURCHASES'] = ( df.PURCHASES - df.PURCHASES.mean() ) / df.PURCHASES.std()\n",
        "df['ONEOFF_PURCHASES'] = ( df.ONEOFF_PURCHASES - df.ONEOFF_PURCHASES.mean() ) / df.ONEOFF_PURCHASES.std()\n",
        "df['PURCHASES_FREQUENCY'] = ( df.PURCHASES_FREQUENCY - df.PURCHASES_FREQUENCY.mean() ) / df.PURCHASES_FREQUENCY.std()\n",
        "df['PURCHASES_INSTALLMENTS_FREQUENCY'] = ( df.PURCHASES_INSTALLMENTS_FREQUENCY - df.PURCHASES_INSTALLMENTS_FREQUENCY.mean() ) / df.PURCHASES_INSTALLMENTS_FREQUENCY.std()\n",
        "df['CASH_ADVANCE_TRX'] = ( df.CASH_ADVANCE_TRX - df.CASH_ADVANCE_TRX.mean() ) / df.CASH_ADVANCE_TRX.std()\n",
        "df['CASH_ADVANCE_FREQUENCY'] = ( df.CASH_ADVANCE_FREQUENCY - df.CASH_ADVANCE_FREQUENCY.mean() ) / df.CASH_ADVANCE_FREQUENCY.std()"
      ],
      "metadata": {
        "id": "4OYjxKnS646A"
      },
      "execution_count": 51,
      "outputs": []
    },
    {
      "cell_type": "code",
      "source": [
        "x=df[['PURCHASES','ONEOFF_PURCHASES','PURCHASES_FREQUENCY','PURCHASES_INSTALLMENTS_FREQUENCY','CASH_ADVANCE_TRX','CASH_ADVANCE_FREQUENCY']]"
      ],
      "metadata": {
        "id": "6dYOefxF7AEW"
      },
      "execution_count": 52,
      "outputs": []
    },
    {
      "cell_type": "code",
      "source": [
        "plt.figure(figsize=(12,12))\n",
        "sns.heatmap(x.corr(), annot=True)\n",
        "plt.show()"
      ],
      "metadata": {
        "colab": {
          "base_uri": "https://localhost:8080/",
          "height": 899
        },
        "id": "zbl1cS57Qgw1",
        "outputId": "f19ff59d-b4e6-4cb4-ac0b-e90d31883717"
      },
      "execution_count": 53,
      "outputs": [
        {
          "output_type": "display_data",
          "data": {
            "text/plain": [
              "<Figure size 864x864 with 2 Axes>"
            ],
            "image/png": "[encoded data removed]"
          },
          "metadata": {
            "needs_background": "light"
          }
        }
      ]
    },
    {
      "cell_type": "code",
      "source": [
        "from sklearn.decomposition import PCA\n",
        "pca = PCA(n_components=0.95)\n",
        "X_red= pca.fit_transform(x)"
      ],
      "metadata": {
        "id": "OPfEzHOWQz3_"
      },
      "execution_count": 57,
      "outputs": []
    },
    {
      "cell_type": "code",
      "source": [
        "X_red.shape"
      ],
      "metadata": {
        "colab": {
          "base_uri": "https://localhost:8080/"
        },
        "id": "Oh-aE0Q9kCIH",
        "outputId": "6ab77117-a560-4d07-ac6a-06848f75ef97"
      },
      "execution_count": 58,
      "outputs": [
        {
          "output_type": "execute_result",
          "data": {
            "text/plain": [
              "(8950, 4)"
            ]
          },
          "metadata": {},
          "execution_count": 58
        }
      ]
    },
    {
      "cell_type": "code",
      "source": [
        "from sklearn.cluster import KMeans\n",
        "kmeans_models = [KMeans(n_clusters=k, random_state=23).fit(X_red) for k in range (1, 10)]\n",
        "innertia = [model.inertia_ for model in kmeans_models]\n",
        "plt.plot(range(1, 10), innertia)\n",
        "plt.title('Elbow method')\n",
        "plt.xlabel('Number of Clusters')\n",
        "plt.ylabel('WCSS')\n",
        "plt.show()"
      ],
      "metadata": {
        "colab": {
          "base_uri": "https://localhost:8080/",
          "height": 295
        },
        "id": "8AgEflv_kEMU",
        "outputId": "1f988f9b-e666-4920-813b-f1d97b5f39df"
      },
      "execution_count": 59,
      "outputs": [
        {
          "output_type": "display_data",
          "data": {
            "text/plain": [
              "<Figure size 432x288 with 1 Axes>"
            ],
            "image/png": "[encoded data removed]"
          },
          "metadata": {
            "needs_background": "light"
          }
        }
      ]
    },
    {
      "cell_type": "code",
      "source": [
        "from sklearn.metrics import silhouette_score\n",
        "silhoutte_scores = [silhouette_score(X_red, model.labels_) for model in kmeans_models[1:4]]\n",
        "plt.plot(range(2,5), silhoutte_scores, \"bo-\")\n",
        "plt.xticks([2, 3, 4])\n",
        "plt.title('Silhoutte scores vs Number of clusters')\n",
        "plt.xlabel('Number of clusters')\n",
        "plt.ylabel('Silhoutte score')\n",
        "plt.show()"
      ],
      "metadata": {
        "colab": {
          "base_uri": "https://localhost:8080/",
          "height": 295
        },
        "id": "02fwd2UVkF4t",
        "outputId": "5b25766f-ba00-4229-d757-3f56b5150e34"
      },
      "execution_count": 60,
      "outputs": [
        {
          "output_type": "display_data",
          "data": {
            "text/plain": [
              "<Figure size 432x288 with 1 Axes>"
            ],
            "image/png": "[encoded data removed]"
          },
          "metadata": {
            "needs_background": "light"
          }
        }
      ]
    },
    {
      "cell_type": "code",
      "source": [
        "from sklearn.metrics import silhouette_score\n",
        "\n",
        "kmeans = KMeans(n_clusters=2, random_state=23)\n",
        "kmeans.fit(X_red)\n",
        "\n",
        "print('Silhoutte score of our model is ' + str(silhouette_score(X_red, kmeans.labels_)))"
      ],
      "metadata": {
        "colab": {
          "base_uri": "https://localhost:8080/"
        },
        "id": "4RkacjgakQzx",
        "outputId": "c935a8b3-8bc8-4a9e-bcd7-35daed467dfa"
      },
      "execution_count": 61,
      "outputs": [
        {
          "output_type": "stream",
          "name": "stdout",
          "text": [
            "Silhoutte score of our model is 0.41739614791897517\n"
          ]
        }
      ]
    },
    {
      "cell_type": "code",
      "source": [
        ""
      ],
      "metadata": {
        "id": "eMfjCq3YkXtv"
      },
      "execution_count": null,
      "outputs": []
    }
  ]
}